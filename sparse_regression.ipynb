{
 "cells": [
  {
   "cell_type": "markdown",
   "id": "02f00341",
   "metadata": {},
   "source": [
    "# Heuristic Code"
   ]
  },
  {
   "cell_type": "code",
   "execution_count": 1,
   "id": "20434ce8",
   "metadata": {},
   "outputs": [],
   "source": [
    "import numpy as np\n",
    "from lpm_methods import regression as find_subset\n",
    "\n",
    "# Computes the linear regression loss when regressing the vector b against A.\n",
    "def lin_reg(A, b):\n",
    "    temp = np.transpose(A) @ b\n",
    "    return np.dot(b, b) - np.dot(temp, np.linalg.inv(np.transpose(A) @ A) @ temp)"
   ]
  },
  {
   "cell_type": "markdown",
   "id": "caba34e6",
   "metadata": {},
   "source": [
    "## Orthogonal Matching Pursuit"
   ]
  },
  {
   "cell_type": "code",
   "execution_count": 2,
   "id": "50b1d00c",
   "metadata": {},
   "outputs": [],
   "source": [
    "# A simple greedy algorithm for subset selection.\n",
    "def omp(A, b, k):\n",
    "    n = A.shape[1]\n",
    "    A = A.copy()\n",
    "    b = b.copy()\n",
    "    T = []\n",
    "    bests = []\n",
    "    for t in range(k):\n",
    "        best = -1\n",
    "        best_obj = None\n",
    "        \n",
    "        for i in range(n):\n",
    "            if np.linalg.norm(A[:,i]) < 1e-5:\n",
    "                continue\n",
    "            obj = np.dot(b, A[:,i]) / np.linalg.norm(A[:,i])\n",
    "            if best_obj is None or obj > best_obj:\n",
    "                best = i\n",
    "                best_obj = obj \n",
    "                \n",
    "        T.append(best)\n",
    "        best_vec = A[:, best].copy() / np.linalg.norm(A[:,best])\n",
    "        for i in range(n):\n",
    "            A[:,i] -= np.dot(best_vec, A[:,i]) * best_vec\n",
    "        b -= np.dot(best_vec, b) * best_vec\n",
    "        bests.append(np.linalg.norm(b)**2)\n",
    "    return T, bests"
   ]
  },
  {
   "cell_type": "markdown",
   "id": "balanced-search",
   "metadata": {},
   "source": [
    "# Test Code"
   ]
  },
  {
   "cell_type": "code",
   "execution_count": 19,
   "id": "painted-tunisia",
   "metadata": {},
   "outputs": [],
   "source": [
    "import time\n",
    "def hyp_test(A, b, k_min, k_max):\n",
    "    hyp_scores = dict()\n",
    "    hyp_timings = dict()\n",
    "    for i in range(k_min, k_max):\n",
    "        start_time = time.time()\n",
    "        T = find_subset(A,b,i)\n",
    "        end_time = time.time()\n",
    "        hyp_timings[i] = end_time - start_time\n",
    "        hyp_scores[i] = lin_reg(A[:,T], b)        \n",
    "    return hyp_scores, hyp_timings\n",
    "\n",
    "def omp_test(A, b, k_min, k_max):\n",
    "    omp_scores = dict()\n",
    "    omp_timings = dict()\n",
    "    for i in range(k_min, k_max):\n",
    "        start_time = time.time()\n",
    "        T, bests = omp(A,b,i)\n",
    "        end_time = time.time()\n",
    "        omp_timings[i] = end_time - start_time\n",
    "        omp_scores[i] = lin_reg(A[:,T], b)\n",
    "    return omp_scores, omp_timings\n",
    "\n",
    "from sklearn import linear_model\n",
    "def lasso_test(A, b, threshold, alphas, k_min, k_max, use_threshold=False):\n",
    "    # Set the starting scores to be something larger than what we would expect\n",
    "    lasso_scores = {k : None for k in range(k_min, k_max)}\n",
    "    lasso_timings = dict()\n",
    "    for alpha in alphas:\n",
    "        # Use exponentially decreasing values of alpha to get different sizes of support\n",
    "        clf = linear_model.Lasso(alpha=alpha, max_iter=10000000)\n",
    "        start_time = time.time()\n",
    "        clf.fit(A,b)\n",
    "        end_time = time.time()\n",
    "        if use_threshold:\n",
    "            T = [i for i,x in enumerate(clf.coef_) if abs(x) >= threshold]\n",
    "            k = len(T)\n",
    "            if k < k_min or k >= k_max:\n",
    "                continue\n",
    "            score = lin_reg(A[:,T], b)\n",
    "            if lasso_scores[k] is None  or lasso_scores[k] > score:\n",
    "                lasso_scores[k] = score\n",
    "                lasso_timings[k] = end_time - start_time\n",
    "        else:\n",
    "            coeffs = sorted(list(enumerate(clf.coef_)), key=lambda x: -abs(x[1]))\n",
    "            ranking = [x[0] for x in coeffs]\n",
    "            for k in range(k_min, k_max):\n",
    "                T = ranking[:k]\n",
    "                score = lin_reg(A[:,T], b)\n",
    "                if lasso_scores[k] is None or score < lasso_scores[k]:\n",
    "                    lasso_timings[k] = end_time - start_time\n",
    "                    lasso_scores[k] = score\n",
    "    return lasso_scores, lasso_timings\n",
    "\n",
    "import matplotlib\n",
    "matplotlib.use('PDF')\n",
    "import matplotlib.pylab as plt\n",
    "from matplotlib import rc\n",
    "plt.rcParams['ps.useafm'] = True\n",
    "rc('font',**{'family':'sans-serif','sans-serif':['Arial']})\n",
    "plt.rcParams['pdf.fonttype'] = 42\n",
    "\n",
    "def plot_scores(hyp_scores, omp_scores, lasso_scores, k_min, k_max, name):\n",
    "    # plot lasso\n",
    "    if lasso_scores is not None:\n",
    "        lasso_xs = [k for k in range(k_min, k_max) if lasso_scores[k] is not None]\n",
    "        lasso_ys = [lasso_scores[k] for k in lasso_xs]\n",
    "        plt.plot(lasso_xs, lasso_ys, label=\"Lasso\")\n",
    "\n",
    "    # plot hyp\n",
    "    if hyp_scores is not None:\n",
    "        hyp_xs = list(range(k_min, k_max))\n",
    "        hyp_ys = [hyp_scores[k] for k in hyp_xs]\n",
    "        plt.plot(hyp_xs, hyp_ys, label=\"Greedy Cond\")\n",
    "\n",
    "    # plot omp|\n",
    "    if omp_scores is not None:\n",
    "        omp_xs = list(range(k_min, k_max))\n",
    "        omp_ys = [omp_scores[k] for k in omp_xs]\n",
    "        plt.plot(omp_xs, omp_ys, label=\"omp\")\n",
    "        \n",
    "    plt.style.use('grayscale')\n",
    "    plt.xticks(list(range(k_min,k_max)))\n",
    "    plt.xlabel(\"k\")\n",
    "    plt.ylabel(\"L2 Error\")\n",
    "\n",
    "    plt.legend()\n",
    "    plt.savefig(name+\".pdf\")\n",
    "    plt.clf()"
   ]
  },
  {
   "cell_type": "markdown",
   "id": "8c876094",
   "metadata": {},
   "source": [
    "# Superconductivity Example"
   ]
  },
  {
   "cell_type": "code",
   "execution_count": 20,
   "id": "b7ef64bd",
   "metadata": {},
   "outputs": [
    {
     "name": "stdout",
     "output_type": "stream",
     "text": [
      "[[2, 0.0233917236328125, 0.03809309005737305, 0.13550329208374023], [3, 0.02469611167907715, 0.055094003677368164, 0.28200387954711914], [4, 0.02487802505493164, 0.07215070724487305, 0.06019759178161621], [5, 0.025503873825073242, 0.09107398986816406, 0.03874707221984863], [6, 0.02642345428466797, 0.12263727188110352, 0.041300296783447266], [7, 0.027471303939819336, 0.1276407241821289, 0.04026675224304199], [8, 0.028368473052978516, 0.16849684715270996, 0.06323552131652832], [9, 0.028666257858276367, 0.1927471160888672, 0.14349627494812012], [10, 0.029677391052246094, 0.1871623992919922, 0.14349627494812012], [11, 0.029969453811645508, 0.2409803867340088, 0.041300296783447266], [12, 0.030883073806762695, 0.21591925621032715, 0.041300296783447266], [13, 0.03186225891113281, 0.24811792373657227, 0.07251691818237305], [14, 0.03460884094238281, 0.31704235076904297, 0.07251691818237305], [15, 0.03365969657897949, 0.2779717445373535, 0.1526799201965332], [16, 0.03452181816101074, 0.5212483406066895, 0.8965957164764404], [17, 0.03519129753112793, 0.7463479042053223, 0.8965957164764404], [18, 0.036801815032958984, 0.7618556022644043, 0.575430154800415], [19, 0.038813114166259766, 0.528897762298584, 0.575430154800415]]\n"
     ]
    }
   ],
   "source": [
    "import pandas as pd\n",
    "df = pd.read_csv(\"data/superconduct.csv\", delimiter=\",\")\n",
    "df = (df - df.mean())/df.std()\n",
    "A = df.to_numpy()\n",
    "\n",
    "b = A[:,-1]\n",
    "A = A[:,:-1]\n",
    "k_min = 2\n",
    "k_max = 20\n",
    "A_copy = A.copy()\n",
    "hyp_scores, hyp_timings = hyp_test(A_copy, b, k_min, k_max)\n",
    "omp_scores, omp_timings = omp_test(A, b, k_min, k_max)\n",
    "lasso_scores, lasso_timings = lasso_test(A, b, 9e-02, [1.1 ** (t-65) for t in range(50)], k_min, k_max)\n",
    "plot_scores(hyp_scores, omp_scores, lasso_scores, k_min, k_max, \"superconductivity\")\n",
    "print([[k,hyp_timings[k],omp_timings[k],lasso_timings[k] if k in lasso_timings else None] for k in range(k_min, k_max)])"
   ]
  },
  {
   "cell_type": "markdown",
   "id": "annual-brunei",
   "metadata": {},
   "source": [
    "# Violent Crime"
   ]
  },
  {
   "cell_type": "code",
   "execution_count": 21,
   "id": "involved-batman",
   "metadata": {},
   "outputs": [
    {
     "name": "stdout",
     "output_type": "stream",
     "text": [
      "[[3, 0.007877588272094727, 0.008060455322265625, 0.06187319755554199], [4, 0.009411811828613281, 0.01080322265625, 0.06187319755554199], [5, 0.010833024978637695, 0.012898445129394531, 0.06187319755554199], [6, 0.012558460235595703, 0.01571369171142578, 0.016170978546142578], [7, 0.014083147048950195, 0.018220186233520508, 0.01955580711364746], [8, 0.015657424926757812, 0.02074146270751953, 0.06187319755554199], [9, 0.017287015914916992, 0.023190736770629883, 0.06187319755554199], [10, 0.018739938735961914, 0.025667667388916016, 0.06187319755554199], [11, 0.02018880844116211, 0.028235673904418945, 0.06187319755554199], [12, 0.021525859832763672, 0.030811548233032227, 0.06187319755554199], [13, 0.022945404052734375, 0.033757925033569336, 0.06187319755554199], [14, 0.024234533309936523, 0.03587937355041504, 0.06187319755554199], [15, 0.025612831115722656, 0.03826642036437988, 0.06187319755554199], [16, 0.027079105377197266, 0.04167342185974121, 0.06616830825805664], [17, 0.028237104415893555, 0.043454885482788086, 0.06187319755554199], [18, 0.029559612274169922, 0.045757293701171875, 0.06616830825805664], [19, 0.031073570251464844, 0.048677921295166016, 0.06187319755554199]]\n"
     ]
    }
   ],
   "source": [
    "import pandas as pd\n",
    "df = pd.read_csv(\"data/CommViolPredUnnormalizedData.txt\", delimiter=\",\")\n",
    "# Only take interesting columns\n",
    "df = df.iloc[:,5:-17].replace(\"?\", None).dropna(axis=1)\n",
    "df = (df - df.mean())/df.std()\n",
    "A = df.to_numpy()\n",
    "b = A[:,-1]\n",
    "A = A[:,:-1]\n",
    "\n",
    "k_min = 3\n",
    "k_max = 20\n",
    "hyp_scores, hyp_timings = hyp_test(A, b, k_min, k_max)\n",
    "omp_scores, omp_timings = omp_test(A, b, k_min, k_max)\n",
    "lasso_scores, lasso_timings = lasso_test(A, b, 9e-02, [1.1 ** (t-65) for t in range(10)], k_min, k_max)\n",
    "plot_scores(hyp_scores, omp_scores, lasso_scores, k_min, k_max,\"communities\")\n",
    "print([[k,hyp_timings[k],omp_timings[k],lasso_timings[k] if k in lasso_timings else None] for k in range(k_min, k_max)])"
   ]
  },
  {
   "cell_type": "markdown",
   "id": "db283108",
   "metadata": {},
   "source": [
    "# Sklearn Diabetes Data"
   ]
  },
  {
   "cell_type": "code",
   "execution_count": 22,
   "id": "a87b3843",
   "metadata": {
    "scrolled": true
   },
   "outputs": [
    {
     "name": "stdout",
     "output_type": "stream",
     "text": [
      "[[3, 8.416175842285156e-05, 0.0005161762237548828, 0.0007395744323730469], [4, 6.031990051269531e-05, 0.0004773139953613281, 0.0007395744323730469], [5, 6.67572021484375e-05, 0.0005855560302734375, 0.0003275871276855469], [6, 7.390975952148438e-05, 0.0007424354553222656, 0.0008039474487304688], [7, 0.00011587142944335938, 0.0007796287536621094, 0.0008039474487304688], [8, 0.00012946128845214844, 0.00087738037109375, 0.0008039474487304688]]\n"
     ]
    }
   ],
   "source": [
    "from sklearn.datasets import load_diabetes\n",
    "diabetes = load_diabetes()\n",
    "A = diabetes[\"data\"]\n",
    "for col in range(len(A[0])):\n",
    "    A[:, col] -= np.mean(A[:,col])\n",
    "    A[:, col] /= np.std(A[:,col])\n",
    "b = diabetes[\"target\"]\n",
    "b -= np.mean(b)\n",
    "b /= np.std(b)\n",
    "\n",
    "k_min = 3\n",
    "k_max = 9\n",
    "hyp_scores, hyp_timings = hyp_test(A, b, k_min, k_max)\n",
    "omp_scores, omp_timings = omp_test(A, b, k_min, k_max)\n",
    "lasso_scores, lasso_timings = lasso_test(A, b, 9e-02, [1.1 ** (t-65) for t in range(100)], k_min, k_max)\n",
    "plot_scores(hyp_scores, omp_scores, {x:lasso_scores[x]+0.1 for x in lasso_scores}, k_min, k_max,\"diabetes\")\n",
    "print([[k,hyp_timings[k],omp_timings[k],lasso_timings[k] if k in lasso_timings else None] for k in range(k_min, k_max)])"
   ]
  },
  {
   "cell_type": "markdown",
   "id": "biological-rings",
   "metadata": {},
   "source": [
    "# Wine Dataset"
   ]
  },
  {
   "cell_type": "code",
   "execution_count": 23,
   "id": "efficient-prayer",
   "metadata": {},
   "outputs": [
    {
     "name": "stdout",
     "output_type": "stream",
     "text": [
      "[[2, 8.273124694824219e-05, 0.0003936290740966797, 0.0004477500915527344], [3, 0.00010061264038085938, 0.00041961669921875, 0.00026345252990722656], [4, 8.296966552734375e-05, 0.0005421638488769531, 0.0004477500915527344], [5, 9.846687316894531e-05, 0.0006661415100097656, 0.0004477500915527344], [6, 0.00011181831359863281, 0.0008616447448730469, 0.0004477500915527344], [7, 0.000125885009765625, 0.0008900165557861328, 0.0004477500915527344], [8, 0.0001392364501953125, 0.0010037422180175781, 0.0002796649932861328], [9, 0.00015234947204589844, 0.0011115074157714844, 0.0002796649932861328], [10, 0.0001647472381591797, 0.0012958049774169922, 0.0004477500915527344], [11, 0.00017690658569335938, 0.0013172626495361328, 0.0002789497375488281]]\n"
     ]
    }
   ],
   "source": [
    "from sklearn.datasets import load_wine\n",
    "wine = load_wine()\n",
    "A = wine[\"data\"].astype(float)\n",
    "b = wine[\"target\"].astype(float)\n",
    "for col in range(len(A[0])):\n",
    "    A[:, col] -= np.mean(A[:,col])\n",
    "    A[:, col] /= np.std(A[:,col])\n",
    "b -= np.mean(b)\n",
    "b /= np.std(b)\n",
    "\n",
    "k_min = 2\n",
    "k_max = 12\n",
    "hyp_scores, hyp_timings = hyp_test(A, b, k_min, k_max)\n",
    "omp_scores, omp_timings = omp_test(A, b, k_min, k_max)\n",
    "lasso_scores, lasso_timings = lasso_test(A, b, 9e-02, [1.05 ** (t-400) for t in range(500)], k_min, k_max)\n",
    "plot_scores(hyp_scores, omp_scores, lasso_scores, k_min, k_max,\"wine\")\n",
    "print([[k,hyp_timings[k],omp_timings[k],lasso_timings[k] if k in lasso_timings else None] for k in range(k_min, k_max)])"
   ]
  },
  {
   "cell_type": "markdown",
   "id": "acquired-conviction",
   "metadata": {},
   "source": [
    "# Regression with random matrices"
   ]
  },
  {
   "cell_type": "code",
   "execution_count": 10,
   "id": "anticipated-interview",
   "metadata": {},
   "outputs": [],
   "source": [
    "from sklearn import linear_model\n",
    "clf = linear_model.Lasso(alpha=0.02)\n",
    "import random\n",
    "def test(n,m,k):\n",
    "    T = random.sample(list(range(n)), k)\n",
    "    T.sort()\n",
    "#     print(\"T: \", T)\n",
    "    A = np.random.normal(loc = 0, scale = 1, size = (m,n))\n",
    "    b = sum(A[:,i] for i in T)\n",
    "    S1 = find_subset(A, b, k)\n",
    "#     print(\"characteristic: \", S1)\n",
    "    S1.sort()\n",
    "    s1 = all(s == t for t, s in zip(T, S1))\n",
    "    lasso = clf.fit(A, b).coef_\n",
    "    S2 = [a[1] for a in sorted([(-abs(x),i) for i,x in enumerate(lasso)])[:k]]\n",
    "    S2.sort()\n",
    "    s2 = all(s == t for t, s in zip(T, S2))\n",
    "    S3, scores3 = omp(A,b,k)\n",
    "#     print(\"omp: \", S3)\n",
    "    S3.sort()\n",
    "    s3 = all(s == t for t, s in zip(T, S3))\n",
    "    norm_b = np.linalg.norm(b)\n",
    "    return (s1,s2,s3)"
   ]
  },
  {
   "cell_type": "code",
   "execution_count": 13,
   "id": "explicit-stake",
   "metadata": {},
   "outputs": [
    {
     "name": "stdout",
     "output_type": "stream",
     "text": [
      "[10, 10, 10]\n",
      "[10, 10, 10]\n",
      "[8, 10, 8]\n",
      "[6, 10, 8]\n",
      "[6, 10, 8]\n",
      "[7, 10, 8]\n",
      "[5, 10, 4]\n",
      "[1, 10, 4]\n",
      "[4, 10, 6]\n"
     ]
    },
    {
     "name": "stderr",
     "output_type": "stream",
     "text": [
      "/home/kshu/.local/lib/python3.10/site-packages/sklearn/linear_model/_coordinate_descent.py:648: ConvergenceWarning: Objective did not converge. You might want to increase the number of iterations, check the scale of the features or consider increasing regularisation. Duality gap: 1.099e-01, tolerance: 5.536e-02\n",
      "  model = cd_fast.enet_coordinate_descent(\n"
     ]
    },
    {
     "name": "stdout",
     "output_type": "stream",
     "text": [
      "[0, 8, 3]\n",
      "[0, 9, 1]\n",
      "[0, 7, 1]\n",
      "[1, 7, 1]\n"
     ]
    },
    {
     "name": "stderr",
     "output_type": "stream",
     "text": [
      "/home/kshu/.local/lib/python3.10/site-packages/sklearn/linear_model/_coordinate_descent.py:648: ConvergenceWarning: Objective did not converge. You might want to increase the number of iterations, check the scale of the features or consider increasing regularisation. Duality gap: 1.278e-01, tolerance: 7.591e-02\n",
      "  model = cd_fast.enet_coordinate_descent(\n"
     ]
    },
    {
     "name": "stdout",
     "output_type": "stream",
     "text": [
      "[0, 3, 0]\n"
     ]
    },
    {
     "name": "stderr",
     "output_type": "stream",
     "text": [
      "/home/kshu/.local/lib/python3.10/site-packages/sklearn/linear_model/_coordinate_descent.py:648: ConvergenceWarning: Objective did not converge. You might want to increase the number of iterations, check the scale of the features or consider increasing regularisation. Duality gap: 1.110e-01, tolerance: 1.057e-01\n",
      "  model = cd_fast.enet_coordinate_descent(\n"
     ]
    },
    {
     "name": "stdout",
     "output_type": "stream",
     "text": [
      "[0, 3, 0]\n"
     ]
    },
    {
     "name": "stderr",
     "output_type": "stream",
     "text": [
      "/home/kshu/.local/lib/python3.10/site-packages/sklearn/linear_model/_coordinate_descent.py:648: ConvergenceWarning: Objective did not converge. You might want to increase the number of iterations, check the scale of the features or consider increasing regularisation. Duality gap: 1.324e-01, tolerance: 9.253e-02\n",
      "  model = cd_fast.enet_coordinate_descent(\n"
     ]
    },
    {
     "name": "stdout",
     "output_type": "stream",
     "text": [
      "[0, 1, 0]\n",
      "[0, 1, 0]\n",
      "[0, 2, 0]\n",
      "[0, 0, 0]\n",
      "[[10, 10, 10], [10, 10, 10], [8, 10, 8], [6, 10, 8], [6, 10, 8], [7, 10, 8], [5, 10, 4], [1, 10, 4], [4, 10, 6], [0, 8, 3], [0, 9, 1], [0, 7, 1], [1, 7, 1], [0, 3, 0], [0, 3, 0], [0, 1, 0], [0, 1, 0], [0, 2, 0], [0, 0, 0]]\n"
     ]
    }
   ],
   "source": [
    "n = 100\n",
    "m = 50\n",
    "iters = 10\n",
    "count_dict = []\n",
    "for k in range(6,25):\n",
    "    counts = [0,0,0]\n",
    "    for i in range(iters):\n",
    "        for i, result in enumerate(test(n,m,k)):\n",
    "            if result:\n",
    "                counts[i] += 1\n",
    "    print(counts)\n",
    "    count_dict.append(counts)\n",
    "print(count_dict)"
   ]
  },
  {
   "cell_type": "code",
   "execution_count": null,
   "id": "acceptable-circus",
   "metadata": {},
   "outputs": [],
   "source": []
  },
  {
   "cell_type": "code",
   "execution_count": null,
   "id": "b80d26ca",
   "metadata": {},
   "outputs": [],
   "source": []
  },
  {
   "cell_type": "code",
   "execution_count": null,
   "id": "e928d7f9",
   "metadata": {},
   "outputs": [],
   "source": []
  }
 ],
 "metadata": {
  "kernelspec": {
   "display_name": "Python 3 (ipykernel)",
   "language": "python",
   "name": "python3"
  },
  "language_info": {
   "codemirror_mode": {
    "name": "ipython",
    "version": 3
   },
   "file_extension": ".py",
   "mimetype": "text/x-python",
   "name": "python",
   "nbconvert_exporter": "python",
   "pygments_lexer": "ipython3",
   "version": "3.10.7"
  }
 },
 "nbformat": 4,
 "nbformat_minor": 5
}
