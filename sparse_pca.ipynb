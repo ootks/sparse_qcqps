{
 "cells": [
  {
   "cell_type": "markdown",
   "id": "02f00341",
   "metadata": {},
   "source": [
    "# Heuristic Code"
   ]
  },
  {
   "cell_type": "code",
   "execution_count": 1,
   "id": "0b7547fb",
   "metadata": {
    "scrolled": true
   },
   "outputs": [
    {
     "name": "stdout",
     "output_type": "stream",
     "text": [
      "In file included from \u001b[01m\u001b[K/home/kshu/eigen-3.4.0/Eigen/Core:337\u001b[m\u001b[K,\n",
      "                 from \u001b[01m\u001b[K/home/kshu/eigen-3.4.0/Eigen/Dense:1\u001b[m\u001b[K,\n",
      "                 from \u001b[01m\u001b[Kpca.h:3\u001b[m\u001b[K,\n",
      "                 from \u001b[01m\u001b[Kpca.cpp:2\u001b[m\u001b[K:\n",
      "\u001b[01m\u001b[K/home/kshu/eigen-3.4.0/Eigen/src/Core/products/SelfadjointMatrixVector.h:\u001b[m\u001b[K In static member function ‘\u001b[01m\u001b[Kstatic void Eigen::internal::selfadjoint_product_impl<Lhs, LhsMode, false, Rhs, 0, true>::run(Dest&, const Lhs&, const Rhs&, const Scalar&) [with Dest = Eigen::Block<Eigen::Matrix<double, -1, 1>, -1, 1, false>; Lhs = Eigen::Block<Eigen::Matrix<double, -1, -1>, -1, -1, false>; int LhsMode = 17; Rhs = Eigen::CwiseBinaryOp<Eigen::internal::scalar_product_op<double, double>, const Eigen::CwiseNullaryOp<Eigen::internal::scalar_constant_op<double>, const Eigen::Matrix<double, -1, 1> >, const Eigen::Block<Eigen::Block<Eigen::Matrix<double, -1, -1>, -1, 1, true>, -1, 1, false> >]\u001b[m\u001b[K’:\n",
      "\u001b[01m\u001b[K/home/kshu/eigen-3.4.0/Eigen/src/Core/products/SelfadjointMatrixVector.h:229:7:\u001b[m\u001b[K \u001b[01;35m\u001b[Kwarning: \u001b[m\u001b[K‘\u001b[01m\u001b[Kresult\u001b[m\u001b[K’ may be used uninitialized [\u001b[01;35m\u001b[K\u001b]8;;https://gcc.gnu.org/onlinedocs/gcc/Warning-Options.html#index-Wmaybe-uninitialized\u0007-Wmaybe-uninitialized\u001b]8;;\u0007\u001b[m\u001b[K]\n",
      "  227 |     \u001b[01;35m\u001b[Kinternal::selfadjoint_matrix_vector_product<Scalar, Index, (internal::traits<ActualLhsTypeCleaned>::Flags&RowMajorBit) ? RowMajor : ColMajor,\u001b[m\u001b[K\n",
      "      |     \u001b[01;35m\u001b[K~~~~~~~~~~~~~~~~~~~~~~~~~~~~~~~~~~~~~~~~~~~~~~~~~~~~~~~~~~~~~~~~~~~~~~~~~~~~~~~~~~~~~~~~~~~~~~~~~~~~~~~~~~~~~~~~~~~~~~~~~~~~~~~~~~~~~~~~~~~~~\u001b[m\u001b[K\n",
      "  228 | \u001b[01;35m\u001b[K                                                int(LhsUpLo), bool(LhsBlasTraits::NeedToConjugate), bool(RhsBlasTraits::NeedToConjugate)>::run\u001b[m\u001b[K\n",
      "      |                                                 \u001b[01;35m\u001b[K~~~~~~~~~~~~~~~~~~~~~~~~~~~~~~~~~~~~~~~~~~~~~~~~~~~~~~~~~~~~~~~~~~~~~~~~~~~~~~~~~~~~~~~~~~~~~~\u001b[m\u001b[K\n",
      "  229 | \u001b[01;35m\u001b[K      (\u001b[m\u001b[K\n",
      "      |       \u001b[01;35m\u001b[K^\u001b[m\u001b[K\n",
      "  230 | \u001b[01;35m\u001b[K        lhs.rows(),                             // size\u001b[m\u001b[K\n",
      "      |         \u001b[01;35m\u001b[K~~~~~~~~~~~~~~~~~~~~~~~~~~~~~~~~~~~~~~~~~~~~~~~\u001b[m\u001b[K\n",
      "  231 | \u001b[01;35m\u001b[K        &lhs.coeffRef(0,0),  lhs.outerStride(), // lhs info\u001b[m\u001b[K\n",
      "      |         \u001b[01;35m\u001b[K~~~~~~~~~~~~~~~~~~~~~~~~~~~~~~~~~~~~~~~~~~~~~~~~~~~\u001b[m\u001b[K\n",
      "  232 | \u001b[01;35m\u001b[K        actualRhsPtr,                           // rhs info\u001b[m\u001b[K\n",
      "      |         \u001b[01;35m\u001b[K~~~~~~~~~~~~~~~~~~~~~~~~~~~~~~~~~~~~~~~~~~~~~~~~~~~\u001b[m\u001b[K\n",
      "  233 | \u001b[01;35m\u001b[K        actualDestPtr,                          // result info\u001b[m\u001b[K\n",
      "      |         \u001b[01;35m\u001b[K~~~~~~~~~~~~~~~~~~~~~~~~~~~~~~~~~~~~~~~~~~~~~~~~~~~~~~\u001b[m\u001b[K\n",
      "  234 | \u001b[01;35m\u001b[K        actualAlpha                             // scale factor\u001b[m\u001b[K\n",
      "      |         \u001b[01;35m\u001b[K~~~~~~~~~~~~~~~~~~~~~~~~~~~~~~~~~~~~~~~~~~~~~~~~~~~~~~~\u001b[m\u001b[K\n",
      "  235 | \u001b[01;35m\u001b[K      )\u001b[m\u001b[K;\n",
      "      |       \u001b[01;35m\u001b[K~\u001b[m\u001b[K\n",
      "\u001b[01m\u001b[K/home/kshu/eigen-3.4.0/Eigen/src/Core/products/SelfadjointMatrixVector.h:41:6:\u001b[m\u001b[K \u001b[01;36m\u001b[Knote: \u001b[m\u001b[Kby argument 4 of type ‘\u001b[01m\u001b[Kconst double*\u001b[m\u001b[K’ to ‘\u001b[01m\u001b[Kstatic void Eigen::internal::selfadjoint_matrix_vector_product<Scalar, Index, StorageOrder, UpLo, ConjugateLhs, ConjugateRhs, Version>::run(Index, const Scalar*, Index, const Scalar*, Scalar*, Scalar) [with Scalar = double; Index = long int; int StorageOrder = 0; int UpLo = 1; bool ConjugateLhs = false; bool ConjugateRhs = false; int Version = 0]\u001b[m\u001b[K’ declared here\n",
      "   41 | void \u001b[01;36m\u001b[Kselfadjoint_matrix_vector_product<Scalar,Index,StorageOrder,UpLo,ConjugateLhs,ConjugateRhs,Version>\u001b[m\u001b[K::run(\n",
      "      |      \u001b[01;36m\u001b[K^~~~~~~~~~~~~~~~~~~~~~~~~~~~~~~~~~~~~~~~~~~~~~~~~~~~~~~~~~~~~~~~~~~~~~~~~~~~~~~~~~~~~~~~~~~~~~~~~~~\u001b[m\u001b[K\n",
      "In file included from \u001b[01m\u001b[K/home/kshu/eigen-3.4.0/Eigen/Core:341\u001b[m\u001b[K:\n",
      "\u001b[01m\u001b[K/home/kshu/eigen-3.4.0/Eigen/src/Core/products/TriangularMatrixVector.h:\u001b[m\u001b[K In function ‘\u001b[01m\u001b[Kstatic void Eigen::internal::trmv_selector<Mode, 1>::run(const Lhs&, const Rhs&, Dest&, const typename Dest::Scalar&) [with Lhs = Eigen::Transpose<const Eigen::Block<const Eigen::Block<Eigen::Matrix<double, -1, -1>, -1, -1, false>, -1, -1, false> >; Rhs = Eigen::Transpose<const Eigen::CwiseBinaryOp<Eigen::internal::scalar_product_op<double, double>, const Eigen::CwiseNullaryOp<Eigen::internal::scalar_constant_op<double>, const Eigen::Matrix<double, 1, -1> >, const Eigen::Transpose<const Eigen::Block<const Eigen::Block<const Eigen::Block<Eigen::Matrix<double, -1, -1>, -1, -1, false>, -1, 1, true>, -1, 1, false> > > >; Dest = Eigen::Transpose<Eigen::Block<Eigen::Block<Eigen::Matrix<double, -1, -1, 1, -1, -1>, 1, -1, true>, 1, -1, false> >; int Mode = 6]\u001b[m\u001b[K’:\n",
      "\u001b[01m\u001b[K/home/kshu/eigen-3.4.0/Eigen/src/Core/products/TriangularMatrixVector.h:332:12:\u001b[m\u001b[K \u001b[01;35m\u001b[Kwarning: \u001b[m\u001b[K‘\u001b[01m\u001b[Kresult\u001b[m\u001b[K’ may be used uninitialized [\u001b[01;35m\u001b[K\u001b]8;;https://gcc.gnu.org/onlinedocs/gcc/Warning-Options.html#index-Wmaybe-uninitialized\u0007-Wmaybe-uninitialized\u001b]8;;\u0007\u001b[m\u001b[K]\n",
      "  327 |     \u001b[01;35m\u001b[Kinternal::triangular_matrix_vector_product\u001b[m\u001b[K\n",
      "      |     \u001b[01;35m\u001b[K~~~~~~~~~~~~~~~~~~~~~~~~~~~~~~~~~~~~~~~~~~\u001b[m\u001b[K\n",
      "  328 | \u001b[01;35m\u001b[K      <Index,Mode,\u001b[m\u001b[K\n",
      "      |       \u001b[01;35m\u001b[K~~~~~~~~~~~~\u001b[m\u001b[K\n",
      "  329 | \u001b[01;35m\u001b[K       LhsScalar, LhsBlasTraits::NeedToConjugate,\u001b[m\u001b[K\n",
      "      |        \u001b[01;35m\u001b[K~~~~~~~~~~~~~~~~~~~~~~~~~~~~~~~~~~~~~~~~~~\u001b[m\u001b[K\n",
      "  330 | \u001b[01;35m\u001b[K       RhsScalar, RhsBlasTraits::NeedToConjugate,\u001b[m\u001b[K\n",
      "      |        \u001b[01;35m\u001b[K~~~~~~~~~~~~~~~~~~~~~~~~~~~~~~~~~~~~~~~~~~\u001b[m\u001b[K\n",
      "  331 | \u001b[01;35m\u001b[K       RowMajor>\u001b[m\u001b[K\n",
      "      |        \u001b[01;35m\u001b[K~~~~~~~~~\u001b[m\u001b[K\n",
      "  332 | \u001b[01;35m\u001b[K      ::run(actualLhs.rows(),actualLhs.cols(),\u001b[m\u001b[K\n",
      "      |       \u001b[01;35m\u001b[K~~~~~^~~~~~~~~~~~~~~~~~~~~~~~~~~~~~~~~~~\u001b[m\u001b[K\n",
      "  333 | \u001b[01;35m\u001b[K            actualLhs.data(),actualLhs.outerStride(),\u001b[m\u001b[K\n",
      "      |             \u001b[01;35m\u001b[K~~~~~~~~~~~~~~~~~~~~~~~~~~~~~~~~~~~~~~~~~\u001b[m\u001b[K\n",
      "  334 | \u001b[01;35m\u001b[K            actualRhsPtr,1,\u001b[m\u001b[K\n",
      "      |             \u001b[01;35m\u001b[K~~~~~~~~~~~~~~~\u001b[m\u001b[K\n",
      "  335 | \u001b[01;35m\u001b[K            dest.data(),dest.innerStride(),\u001b[m\u001b[K\n",
      "      |             \u001b[01;35m\u001b[K~~~~~~~~~~~~~~~~~~~~~~~~~~~~~~~\u001b[m\u001b[K\n",
      "  336 | \u001b[01;35m\u001b[K            actualAlpha)\u001b[m\u001b[K;\n",
      "      |             \u001b[01;35m\u001b[K~~~~~~~~~~~~\u001b[m\u001b[K\n",
      "\u001b[01m\u001b[K/home/kshu/eigen-3.4.0/Eigen/src/Core/products/TriangularMatrixVector.h:105:24:\u001b[m\u001b[K \u001b[01;36m\u001b[Knote: \u001b[m\u001b[Kby argument 5 of type ‘\u001b[01m\u001b[Kconst double*\u001b[m\u001b[K’ to ‘\u001b[01m\u001b[Kstatic void Eigen::internal::triangular_matrix_vector_product<Index, Mode, LhsScalar, ConjLhs, RhsScalar, ConjRhs, 1, Version>::run(Index, Index, const LhsScalar*, Index, const RhsScalar*, Index, ResScalar*, Index, const ResScalar&) [with Index = long int; int Mode = 6; LhsScalar = double; bool ConjLhs = false; RhsScalar = double; bool ConjRhs = false; int Version = 0]\u001b[m\u001b[K’ declared here\n",
      "  105 | EIGEN_DONT_INLINE void \u001b[01;36m\u001b[Ktriangular_matrix_vector_product<Index,Mode,LhsScalar,ConjLhs,RhsScalar,ConjRhs,RowMajor,Version>\u001b[m\u001b[K\n",
      "      |                        \u001b[01;36m\u001b[K^~~~~~~~~~~~~~~~~~~~~~~~~~~~~~~~~~~~~~~~~~~~~~~~~~~~~~~~~~~~~~~~~~~~~~~~~~~~~~~~~~~~~~~~~~~~~~~~~\u001b[m\u001b[K\n"
     ]
    }
   ],
   "source": [
    "!./pca_compile.sh"
   ]
  },
  {
   "cell_type": "code",
   "execution_count": 2,
   "id": "aad10671",
   "metadata": {},
   "outputs": [],
   "source": [
    "import numpy as np\n",
    "from pca import pca as find_subset"
   ]
  },
  {
   "cell_type": "markdown",
   "id": "suited-attitude",
   "metadata": {},
   "source": [
    "# Examples from \"Solving Large-Scale Sparse PCA to Certifiable (Near) Optimality\""
   ]
  },
  {
   "cell_type": "markdown",
   "id": "creative-executive",
   "metadata": {},
   "source": [
    "The data and optimal values of the optimization problems can be found on the github page associated to the paper \"Solving Large-Scale Sparse PCA to Certifiable (Near) Optimality\", at https://github.com/ryancorywright/ScalableSPCA.jl"
   ]
  },
  {
   "cell_type": "code",
   "execution_count": 3,
   "id": "urban-breach",
   "metadata": {},
   "outputs": [],
   "source": [
    "import time\n",
    "def max_eigenvalue(A, T):\n",
    "    return max(np.linalg.eigvalsh([[A[i,j] for i in T] for j in T]))\n",
    "# Runs the heuristic on a dataset with fixed k, and reports relevant information.\n",
    "def test(data, k, opt_val, redund=2, method = find_subset):\n",
    "    start_time = time.time()\n",
    "    T = method(data, k)\n",
    "    total_time = time.time() - start_time\n",
    "    print(\"Found set: \", T)\n",
    "    value = max_eigenvalue(data, T)\n",
    "    print(\"with value \",value)\n",
    "    print(\"With gap \", (opt_val - value)/opt_val)\n",
    "    print(\"in {} seconds\".format(total_time))\n",
    "    print(\"\")"
   ]
  },
  {
   "cell_type": "code",
   "execution_count": 4,
   "id": "restricted-seller",
   "metadata": {},
   "outputs": [],
   "source": [
    "def easy_heuristic(A, k, redund = None):\n",
    "    T = []\n",
    "    for t in range(k):\n",
    "        best = -100\n",
    "        best_i = -1\n",
    "        for i in range(len(A)):\n",
    "            if i in T:\n",
    "                continue\n",
    "            score = max_eigenvalue(A, T + [i])\n",
    "            if score > best:\n",
    "                best = score\n",
    "                best_i = i\n",
    "        T.append(best_i)\n",
    "    return T"
   ]
  },
  {
   "cell_type": "markdown",
   "id": "genetic-boring",
   "metadata": {},
   "source": [
    "## Wine dataset"
   ]
  },
  {
   "cell_type": "code",
   "execution_count": 5,
   "id": "shaped-request",
   "metadata": {},
   "outputs": [
    {
     "name": "stdout",
     "output_type": "stream",
     "text": [
      "Running test with Wine data and k = 5\n",
      "Found set:  [6, 5, 11, 8, 7]\n",
      "with value  3.439778719536773\n",
      "With gap  3.722514890500853e-07\n",
      "in 0.0003566741943359375 seconds\n",
      "\n",
      "Running test with Wine data and k = 10\n",
      "Found set:  [6, 5, 11, 8, 10, 7, 12, 1, 4, 0]\n",
      "with value  4.450848604728583\n",
      "With gap  0.031221667607272643\n",
      "in 0.0009293556213378906 seconds\n",
      "\n"
     ]
    }
   ],
   "source": [
    "# This dataset was taken directly from ScalableSPCA.jl\n",
    "normwine=[[1.0       ,  0.0943969 ,  0.211545   , -0.310235  ,  0.270798  ,  0.289101 ,   0.236815 , -0.155929 ,  0.136698    , 0.546364   ,-0.0717472 ,  0.0723432 ,   0.64372   ],\n",
    "[0.0943969 ,  1.0       ,  0.164045   ,  0.2885    , -0.0545751 , -0.335167 ,  -0.411007 ,  0.292977 , -0.220746    , 0.248985   ,-0.561296  , -0.36871   ,  -0.192011  ],\n",
    "[0.211545  ,  0.164045  ,  1.0        ,  0.443367  ,  0.286587  ,  0.12898  ,   0.115077 ,  0.18623  ,  0.00965194  , 0.258887   ,-0.0746669 ,  0.00391123,   0.223626  ],\n",
    "[-0.310235 ,   0.2885   ,   0.443367  ,   1.0      ,  -0.0833331,  -0.321113,   -0.35137 ,   0.361922,  -0.197327   ,  0.018732  , -0.273955 ,  -0.276769 ,   -0.440597 ],\n",
    "[0.270798  , -0.0545751 ,  0.286587   , -0.0833331 ,  1.0       ,  0.214401 ,   0.195784 , -0.256294 ,  0.236441    , 0.19995    , 0.0553982 ,  0.0660039 ,   0.393351  ],\n",
    "[0.289101  , -0.335167  ,  0.12898    , -0.321113  ,  0.214401  ,  1.0      ,   0.864564 , -0.449935 ,  0.612413    ,-0.0551364  , 0.433681  ,  0.699949  ,   0.498115  ],\n",
    "[0.236815  , -0.411007  ,  0.115077   , -0.35137   ,  0.195784  ,  0.864564 ,   1.0      , -0.5379   ,  0.652692    ,-0.172379   , 0.543479  ,  0.787194  ,   0.494193  ],\n",
    "[-0.155929 ,   0.292977 ,   0.18623   ,   0.361922 ,  -0.256294 ,  -0.449935,   -0.5379  ,   1.0     ,  -0.365845   ,  0.139057  , -0.26264  ,  -0.50327  ,   -0.311385 ],\n",
    "[0.136698  , -0.220746  ,  0.00965194 , -0.197327  ,  0.236441  ,  0.612413 ,   0.652692 , -0.365845 ,  1.0         ,-0.0252499  , 0.295544  ,  0.519067  ,   0.330417  ],\n",
    "[0.546364  ,  0.248985  ,  0.258887   ,  0.018732  ,  0.19995   , -0.0551364,  -0.172379 ,  0.139057 , -0.0252499   , 1.0        ,-0.521813  , -0.428815  ,   0.3161    ],\n",
    "[-0.0717472,  -0.561296 ,  -0.0746669 ,  -0.273955 ,   0.0553982,   0.433681,    0.543479,  -0.26264 ,   0.295544   , -0.521813  ,  1.0      ,   0.565468 ,    0.236183 ],\n",
    "[0.0723432 , -0.36871   ,  0.00391123 , -0.276769  ,  0.0660039 ,  0.699949 ,   0.787194 , -0.50327  ,  0.519067    ,-0.428815   , 0.565468  ,  1.0       ,   0.312761  ],\n",
    "[0.64372   , -0.192011  ,  0.223626   , -0.440597  ,  0.393351  ,  0.498115 ,   0.494193 , -0.311385 ,  0.330417    , 0.3161     , 0.236183  ,  0.312761  ,   1.0]]\n",
    "normwine=np.array(normwine)\n",
    "print(\"Running test with Wine data and k = 5\")\n",
    "test(normwine, 5, 3.43978)\n",
    "print(\"Running test with Wine data and k = 10\")\n",
    "test(normwine, 10, 4.59429)"
   ]
  },
  {
   "cell_type": "code",
   "execution_count": 6,
   "id": "signed-thomson",
   "metadata": {},
   "outputs": [
    {
     "name": "stdout",
     "output_type": "stream",
     "text": [
      "Running control with Wine data and k = 5\n",
      "Found set:  [0, 12, 9, 4, 5]\n",
      "with value  2.4083398570127574\n",
      "With gap  0.29985642773294874\n",
      "in 0.006848335266113281 seconds\n",
      "\n",
      "Running control with Wine data and k = 10\n",
      "Found set:  [0, 12, 9, 4, 5, 6, 11, 8, 7, 10]\n",
      "with value  4.255561065366669\n",
      "With gap  0.07372824411026106\n",
      "in 0.0014729499816894531 seconds\n",
      "\n"
     ]
    }
   ],
   "source": [
    "print(\"Running control with Wine data and k = 5\")\n",
    "test(normwine, 5, 3.43978, method=easy_heuristic)\n",
    "print(\"Running control with Wine data and k = 10\")\n",
    "test(normwine, 10, 4.59429, method=easy_heuristic)"
   ]
  },
  {
   "cell_type": "markdown",
   "id": "composite-bolivia",
   "metadata": {},
   "source": [
    "## Pitprops dataset"
   ]
  },
  {
   "cell_type": "code",
   "execution_count": 7,
   "id": "simplified-paragraph",
   "metadata": {},
   "outputs": [
    {
     "name": "stdout",
     "output_type": "stream",
     "text": [
      "Running test with Pitprops data and k = 5\n",
      "Found set:  [1, 0, 8, 9, 6]\n",
      "with value  3.406154946789761\n",
      "With gap  -4.5492304686148996e-05\n",
      "in 0.0003101825714111328 seconds\n",
      "\n",
      "Running test with Pitprops data and k = 10\n",
      "Found set:  [1, 0, 6, 9, 8, 7, 3, 2, 11, 12]\n",
      "with value  3.9498779190745155\n",
      "With gap  0.05346802801952662\n",
      "in 0.0008502006530761719 seconds\n",
      "\n"
     ]
    }
   ],
   "source": [
    "# This dataset was taken directly from ScalableSPCA.jl\n",
    "pitprops=[[1,0.954,0.364,0.342,-0.129,0.313,0.496,0.424,0.592,0.545,0.084,-0.019,0.134],\n",
    "       [0.954,1,0.297,0.284,-0.118,0.291,0.503,0.419,0.648,0.569,0.076,-0.036,0.144],\n",
    "       [0.364,0.297,1,0.882,-0.148,0.153,-0.029,-0.054,0.125,-0.081,0.162,0.22,0.126],\n",
    "       [0.342,0.284,0.882,1,0.22,0.381,0.174,-0.059,0.137,-0.014,0.097,0.169,0.015],\n",
    "       [-0.129,-0.118,-0.148,0.22,1,0.364,0.296,0.004,-0.039,0.037,-0.091,-0.145,-0.208],\n",
    "       [0.313,0.291,0.153,0.381,0.364,1,0.813,0.09,0.211,0.274,-0.036,0.024,-0.329],\n",
    "       [0.496,0.503,-0.029,0.174,0.296,0.813,1,0.372,0.465,0.679,-0.113,-0.232,-0.424],\n",
    "       [0.424,0.419,-0.054,-0.059,0.004,0.09,0.372,1,0.482,0.557,0.061,-0.357,-0.202],\n",
    "       [0.592,0.648,0.125,0.137,-0.039,0.211,0.465,0.482,1,0.526,0.085,-0.127,-0.076],\n",
    "       [0.545,0.569,-0.081,-0.014,0.037,0.274,0.679,0.557,0.526,1,-0.319,-0.368,-0.291],\n",
    "       [0.084,0.076,0.162,0.097,-0.091,-0.036,-0.113,0.061,0.085,-0.319,1,0.029,0.007],\n",
    "       [-0.019,-0.036,0.22,0.169,-0.145,0.024,-0.232,-0.357,-0.127,-0.368,0.029,1,0.184],\n",
    "       [0.134,0.144,0.126,0.015,-0.208,-0.329,-0.424,-0.202,-0.076,-0.291,0.007,0.184,1]]\n",
    "pitprops=np.array(pitprops)\n",
    "print(\"Running test with Pitprops data and k = 5\")\n",
    "test(pitprops, 5, 3.406)\n",
    "print(\"Running test with Pitprops data and k = 10\")\n",
    "test(pitprops, 10, 4.173)"
   ]
  },
  {
   "cell_type": "code",
   "execution_count": 8,
   "id": "australian-credit",
   "metadata": {},
   "outputs": [
    {
     "name": "stdout",
     "output_type": "stream",
     "text": [
      "Running test with Pitprops data and k = 5\n",
      "Found set:  [0, 1, 8, 9, 6]\n",
      "with value  3.406154946789762\n",
      "With gap  -4.549230468640977e-05\n",
      "in 0.11341381072998047 seconds\n",
      "\n",
      "Running test with Pitprops data and k = 10\n",
      "Found set:  [0, 1, 8, 9, 6, 7, 5, 3, 2, 11]\n",
      "with value  4.172637661588203\n",
      "With gap  8.682923838898275e-05\n",
      "in 0.0013456344604492188 seconds\n",
      "\n"
     ]
    }
   ],
   "source": [
    "print(\"Running test with Pitprops data and k = 5\")\n",
    "test(pitprops, 5, 3.406, method=easy_heuristic)\n",
    "print(\"Running test with Pitprops data and k = 10\")\n",
    "test(pitprops, 10, 4.173, method=easy_heuristic)"
   ]
  },
  {
   "cell_type": "markdown",
   "id": "combined-lesbian",
   "metadata": {},
   "source": [
    "## MiniBooNE dataset"
   ]
  },
  {
   "cell_type": "code",
   "execution_count": 9,
   "id": "married-mount",
   "metadata": {},
   "outputs": [
    {
     "name": "stdout",
     "output_type": "stream",
     "text": [
      "Running test with MiniBooNE data and k = 5\n",
      "Found set:  [14, 16, 38, 7, 5]\n",
      "with value  4.9998734705325365\n",
      "With gap  2.5305893492699738e-05\n",
      "in 0.003420114517211914 seconds\n",
      "\n",
      "Running test with MiniBooNE data and k = 10\n",
      "Found set:  [14, 16, 38, 29, 7, 45, 4, 21, 24, 34]\n",
      "with value  9.9997538854806\n",
      "With gap  2.460145218615726e-05\n",
      "in 0.012227058410644531 seconds\n",
      "\n"
     ]
    }
   ],
   "source": [
    "import h5py\n",
    "f = h5py.File(\"../sparse_qcqp_code/data/miniBoone.jld\", \"r\")\n",
    "miniboone = np.array(f['normMiniBooNE'])\n",
    "print(\"Running test with MiniBooNE data and k = 5\")\n",
    "test(miniboone, 5, 5.0000)\n",
    "print(\"Running test with MiniBooNE data and k = 10\")\n",
    "test(miniboone, 10, 9.9999999)"
   ]
  },
  {
   "cell_type": "code",
   "execution_count": 10,
   "id": "stuck-convertible",
   "metadata": {},
   "outputs": [
    {
     "name": "stdout",
     "output_type": "stream",
     "text": [
      "Running control with MiniBooNE data and k = 5\n",
      "Found set:  [0, 27, 8, 45, 3]\n",
      "with value  4.9997141848049536\n",
      "With gap  5.716303900928921e-05\n",
      "in 0.08128952980041504 seconds\n",
      "\n",
      "Running control with MiniBooNE data and k = 10\n",
      "Found set:  [0, 27, 8, 45, 3, 44, 39, 28, 4, 18]\n",
      "with value  9.999651361951768\n",
      "With gap  3.485380517178079e-05\n",
      "in 0.008098602294921875 seconds\n",
      "\n"
     ]
    }
   ],
   "source": [
    "print(\"Running control with MiniBooNE data and k = 5\")\n",
    "test(miniboone, 5, 5.0000, method=easy_heuristic)\n",
    "print(\"Running control with MiniBooNE data and k = 10\")\n",
    "test(miniboone, 10, 9.9999999, method=easy_heuristic)"
   ]
  },
  {
   "cell_type": "markdown",
   "id": "decent-insurance",
   "metadata": {},
   "source": [
    "## Communities dataset"
   ]
  },
  {
   "cell_type": "code",
   "execution_count": 11,
   "id": "parliamentary-tamil",
   "metadata": {},
   "outputs": [
    {
     "name": "stdout",
     "output_type": "stream",
     "text": [
      "Running test with Communities data and k = 5\n",
      "Found set:  [19, 12, 20, 21, 84]\n",
      "with value  4.510362131817622\n",
      "With gap  0.07203932677483996\n",
      "in 0.02608776092529297 seconds\n",
      "\n",
      "Running test with Communities data and k = 10\n",
      "Found set:  [19, 12, 20, 21, 84, 83, 85, 82, 79, 80]\n",
      "with value  8.710459769953589\n",
      "With gap  0.012822456825605389\n",
      "in 0.09351420402526855 seconds\n",
      "\n"
     ]
    }
   ],
   "source": [
    "import h5py\n",
    "f = h5py.File(\"../sparse_qcqp_code/data/communities.jld\", \"r\")\n",
    "communities = np.array(f['normCommunities'])\n",
    "print(\"Running test with Communities data and k = 5\")\n",
    "test(communities, 5, 4.86051)\n",
    "print(\"Running test with Communities data and k = 10\")\n",
    "test(communities, 10, 8.8236, redund = 30)"
   ]
  },
  {
   "cell_type": "code",
   "execution_count": 12,
   "id": "qualified-center",
   "metadata": {},
   "outputs": [
    {
     "name": "stdout",
     "output_type": "stream",
     "text": [
      "Running control with Communities data and k = 5\n",
      "Found set:  [0, 10, 27, 49, 71]\n",
      "with value  4.62910997419597\n",
      "With gap  0.04760817811382548\n",
      "in 0.021903038024902344 seconds\n",
      "\n",
      "Running control with Communities data and k = 10\n",
      "Found set:  [0, 10, 27, 49, 71, 89, 51, 90, 96, 99]\n",
      "with value  7.186827179044622\n",
      "With gap  0.18549943571279057\n",
      "in 0.019944429397583008 seconds\n",
      "\n"
     ]
    }
   ],
   "source": [
    "print(\"Running control with Communities data and k = 5\")\n",
    "test(communities, 5, 4.86051, method=easy_heuristic)\n",
    "print(\"Running control with Communities data and k = 10\")\n",
    "test(communities, 10, 8.8236, redund = 10, method=easy_heuristic)"
   ]
  },
  {
   "cell_type": "markdown",
   "id": "double-zoning",
   "metadata": {},
   "source": [
    "## Arrythmia dataset"
   ]
  },
  {
   "cell_type": "code",
   "execution_count": 13,
   "id": "expensive-slovakia",
   "metadata": {},
   "outputs": [
    {
     "name": "stdout",
     "output_type": "stream",
     "text": [
      "Running test with Arrythmia data and k = 5\n",
      "Found set:  [212, 182, 202, 183, 213]\n",
      "with value  4.181882024673722\n",
      "With gap  0.011865970871737049\n",
      "in 0.3872256278991699 seconds\n",
      "\n"
     ]
    }
   ],
   "source": [
    "import h5py\n",
    "f = h5py.File(\"../sparse_qcqp_code/data/arrhythmia.jld\", \"r\")\n",
    "arrythmia = np.array(f['normArrhythmia'])\n",
    "for i in range(len(arrythmia)):\n",
    "    for j in range(len(arrythmia[0])):\n",
    "        if np.isnan(arrythmia[i,j]):\n",
    "            arrythmia[i,j] = 0\n",
    "print(\"Running test with Arrythmia data and k = 5\")\n",
    "test(arrythmia, 5, 4.2321)"
   ]
  },
  {
   "cell_type": "code",
   "execution_count": 14,
   "id": "municipal-advertiser",
   "metadata": {},
   "outputs": [
    {
     "name": "stdout",
     "output_type": "stream",
     "text": [
      "Running test with Arrythmia data and k = 10\n",
      "Found set:  [212, 182, 202, 213, 183, 206, 176, 166, 9, 172]\n",
      "with value  7.4993208620768765\n",
      "With gap  0.005313319917967243\n",
      "in 1.471912145614624 seconds\n",
      "\n"
     ]
    }
   ],
   "source": [
    "print(\"Running test with Arrythmia data and k = 10\")\n",
    "# Numerical errors mean that when interpolating, more sampling points are necessary to avoid errors.\n",
    "test(arrythmia, 10, 7.53938, redund = 30)"
   ]
  },
  {
   "cell_type": "code",
   "execution_count": 13,
   "id": "neural-hydrogen",
   "metadata": {},
   "outputs": [
    {
     "name": "stdout",
     "output_type": "stream",
     "text": [
      "Running test with Arrythmia data and k = 5\n",
      "Found set:  [0, 206, 176, 166, 212]\n",
      "with value  3.6261694555215422\n",
      "With gap  0.14317491185899617\n",
      "in 15.743086099624634 seconds\n",
      "\n"
     ]
    }
   ],
   "source": [
    "print(\"Running test with Arrythmia data and k = 5\")\n",
    "test(arrythmia, 5, 4.2321, method=easy_heuristic)"
   ]
  },
  {
   "cell_type": "code",
   "execution_count": 18,
   "id": "minute-defendant",
   "metadata": {},
   "outputs": [
    {
     "name": "stdout",
     "output_type": "stream",
     "text": [
      "Running test with Arrythmia data and k = 5\n",
      "Found set:  [0, 206, 176, 166, 212, 182, 213, 183, 172, 173]\n",
      "with value  7.063655718394182\n",
      "With gap  0.06309859452711207\n",
      "in 0.06334948539733887 seconds\n",
      "\n"
     ]
    }
   ],
   "source": [
    "print(\"Running test with Arrythmia data and k = 5\")\n",
    "test(arrythmia, 10, 7.53938, method=easy_heuristic)"
   ]
  },
  {
   "cell_type": "code",
   "execution_count": null,
   "id": "living-satin",
   "metadata": {},
   "outputs": [],
   "source": []
  }
 ],
 "metadata": {
  "kernelspec": {
   "display_name": "Python 3 (ipykernel)",
   "language": "python",
   "name": "python3"
  },
  "language_info": {
   "codemirror_mode": {
    "name": "ipython",
    "version": 3
   },
   "file_extension": ".py",
   "mimetype": "text/x-python",
   "name": "python",
   "nbconvert_exporter": "python",
   "pygments_lexer": "ipython3",
   "version": "3.10.7"
  }
 },
 "nbformat": 4,
 "nbformat_minor": 5
}
